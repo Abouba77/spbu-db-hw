{
  "nbformat": 4,
  "nbformat_minor": 0,
  "metadata": {
    "colab": {
      "provenance": [],
      "toc_visible": true
    },
    "kernelspec": {
      "name": "python3",
      "display_name": "Python 3"
    },
    "language_info": {
      "name": "python"
    }
  },
  "cells": [
    {
      "cell_type": "code",
      "execution_count": null,
      "metadata": {
        "id": "7RqMcD91Om4D"
      },
      "outputs": [],
      "source": []
    },
    {
      "cell_type": "markdown",
      "source": [
        "# Nouvelle section"
      ],
      "metadata": {
        "id": "5-yhM8QrO7mh"
      }
    },
    {
      "cell_type": "markdown",
      "source": [
        "import de sqlite3\n"
      ],
      "metadata": {
        "id": "iIdQB9qePFsS"
      }
    },
    {
      "cell_type": "code",
      "source": [
        "import sqlite3"
      ],
      "metadata": {
        "id": "8-JRY9CkPVsh"
      },
      "execution_count": 1,
      "outputs": []
    },
    {
      "cell_type": "code",
      "source": [
        "# Créer une connexion SQLite en mémoire (non permanente)\n",
        "conn = sqlite3.connect(':memory:')\n",
        "cursor = conn.cursor()"
      ],
      "metadata": {
        "id": "633GominQqwg"
      },
      "execution_count": 8,
      "outputs": []
    },
    {
      "cell_type": "code",
      "source": [
        "# Création de la table courses\n",
        "cursor.execute('''\n",
        "CREATE TABLE courses (\n",
        "    id INTEGER PRIMARY KEY,\n",
        "    name TEXT,\n",
        "    is_exam BOOLEAN,\n",
        "    min_grade INTEGER,\n",
        "    max_grade INTEGER\n",
        ")\n",
        "''')"
      ],
      "metadata": {
        "colab": {
          "base_uri": "https://localhost:8080/"
        },
        "id": "yQrrAQ1UQ6bi",
        "outputId": "2c989bd9-9582-4f6f-8be2-9af26e8bbeb5"
      },
      "execution_count": 11,
      "outputs": [
        {
          "output_type": "execute_result",
          "data": {
            "text/plain": [
              "<sqlite3.Cursor at 0x7c8e1f6a2040>"
            ]
          },
          "metadata": {},
          "execution_count": 11
        }
      ]
    },
    {
      "cell_type": "code",
      "source": [
        "# Création de la table groups\n",
        "cursor.execute('''\n",
        "CREATE TABLE groups (\n",
        "    id INTEGER PRIMARY KEY,\n",
        "    full_name TEXT,\n",
        "    short_name TEXT,\n",
        "    students_ids TEXT\n",
        ")\n",
        "''')"
      ],
      "metadata": {
        "colab": {
          "base_uri": "https://localhost:8080/"
        },
        "id": "WyR2Oc4-RHa4",
        "outputId": "658e140d-6e15-4659-b2af-bf22c0b60476"
      },
      "execution_count": 12,
      "outputs": [
        {
          "output_type": "execute_result",
          "data": {
            "text/plain": [
              "<sqlite3.Cursor at 0x7c8e1f6a2040>"
            ]
          },
          "metadata": {},
          "execution_count": 12
        }
      ]
    },
    {
      "cell_type": "code",
      "source": [
        "# Création de la table students\n",
        "cursor.execute('''\n",
        "CREATE TABLE students (\n",
        "    id INTEGER PRIMARY KEY,\n",
        "    first_name TEXT,\n",
        "    last_name TEXT,\n",
        "    group_id INTEGER,\n",
        "    courses_ids TEXT\n",
        ")\n",
        "''')"
      ],
      "metadata": {
        "colab": {
          "base_uri": "https://localhost:8080/"
        },
        "id": "DMu0ZGdJRNFZ",
        "outputId": "bb2b1b42-29b5-4192-a6a0-fdbbecc5955d"
      },
      "execution_count": 13,
      "outputs": [
        {
          "output_type": "execute_result",
          "data": {
            "text/plain": [
              "<sqlite3.Cursor at 0x7c8e1f6a2040>"
            ]
          },
          "metadata": {},
          "execution_count": 13
        }
      ]
    },
    {
      "cell_type": "code",
      "source": [
        "# Création de la table des notes pour un cours\n",
        "cursor.execute('''\n",
        "CREATE TABLE math_course (\n",
        "    student_id INTEGER,\n",
        "    grade INTEGER,\n",
        "    grade_str TEXT\n",
        ")\n",
        "''')\n",
        "\n",
        "print(\"Tables créées avec succès.\")"
      ],
      "metadata": {
        "colab": {
          "base_uri": "https://localhost:8080/"
        },
        "id": "0C3i0028RXS5",
        "outputId": "3f6f4f6e-5bc8-4393-db8c-a0c366687948"
      },
      "execution_count": 14,
      "outputs": [
        {
          "output_type": "stream",
          "name": "stdout",
          "text": [
            "Tables créées avec succès.\n"
          ]
        }
      ]
    },
    {
      "cell_type": "code",
      "source": [
        "#Insertion des données dans la table courses\n",
        "cursor.executemany('''\n",
        "INSERT INTO courses (id, name, is_exam, min_grade, max_grade)\n",
        "VALUES (?, ?, ?, ?, ?)\n",
        "''', [\n",
        "    (1, 'Mathematics', True, 0, 100),\n",
        "    (2, 'History', True, 0, 100),\n",
        "    (3, 'Physics', False, 0, 10)\n",
        "])"
      ],
      "metadata": {
        "colab": {
          "base_uri": "https://localhost:8080/"
        },
        "id": "W8Uox9C_P7Gv",
        "outputId": "95b286c7-da2f-4ba9-dbd2-cc04d389c8dd"
      },
      "execution_count": 15,
      "outputs": [
        {
          "output_type": "execute_result",
          "data": {
            "text/plain": [
              "<sqlite3.Cursor at 0x7c8e1f6a2040>"
            ]
          },
          "metadata": {},
          "execution_count": 15
        }
      ]
    },
    {
      "cell_type": "code",
      "source": [
        "# Insertion des données dans la table groups\n",
        "cursor.executemany('''\n",
        "INSERT INTO groups (id, full_name, short_name, students_ids)\n",
        "VALUES (?, ?, ?, ?)\n",
        "''', [\n",
        "    (1, 'Group A', 'A', '1,2'),\n",
        "    (2, 'Group B', 'B', '3')\n",
        "])"
      ],
      "metadata": {
        "colab": {
          "base_uri": "https://localhost:8080/"
        },
        "id": "5KY3JfaVQEbA",
        "outputId": "d035d57b-7f6d-4fd7-d439-c80eb52ff006"
      },
      "execution_count": 4,
      "outputs": [
        {
          "output_type": "execute_result",
          "data": {
            "text/plain": [
              "<sqlite3.Cursor at 0x7c8e1f6a2340>"
            ]
          },
          "metadata": {},
          "execution_count": 4
        }
      ]
    },
    {
      "cell_type": "code",
      "source": [
        "cursor.executemany('''\n",
        "INSERT INTO students (id, first_name, last_name, group_id, courses_ids)\n",
        "VALUES (?, ?, ?, ?, ?)\n",
        "''', [\n",
        "    (1, 'Alice', 'Smith', 1, '1,2'),\n",
        "    (2, 'Bob', 'Johnson', 1, '1,3'),\n",
        "    (3, 'Charlie', 'Williams', 2, '2,3')\n",
        "])"
      ],
      "metadata": {
        "colab": {
          "base_uri": "https://localhost:8080/"
        },
        "id": "5ptIwjn_QI5Y",
        "outputId": "c049c77c-eddc-45ea-a00b-fec110b64233"
      },
      "execution_count": 5,
      "outputs": [
        {
          "output_type": "execute_result",
          "data": {
            "text/plain": [
              "<sqlite3.Cursor at 0x7c8e1f6a2340>"
            ]
          },
          "metadata": {},
          "execution_count": 5
        }
      ]
    },
    {
      "cell_type": "code",
      "source": [
        "# Insertion des données dans la table math_course\n",
        "cursor.executemany('''\n",
        "INSERT INTO math_course (student_id, grade, grade_str)\n",
        "VALUES (?, ?, ?)\n",
        "''', [\n",
        "    (1, 85, 'A'),\n",
        "    (2, 92, 'A+')\n",
        "])\n",
        "\n",
        "conn.commit()\n",
        "print(\"Données insérées avec succès.\")"
      ],
      "metadata": {
        "colab": {
          "base_uri": "https://localhost:8080/"
        },
        "id": "_7Pv5lQsQOKR",
        "outputId": "076aa087-ddaf-4b79-97ea-850431b0bc8d"
      },
      "execution_count": 16,
      "outputs": [
        {
          "output_type": "stream",
          "name": "stdout",
          "text": [
            "Données insérées avec succès.\n"
          ]
        }
      ]
    },
    {
      "cell_type": "code",
      "source": [
        "#requête pour afficher tous les cours\n",
        "\n",
        "cursor.execute('SELECT * FROM courses') # Récupérer tous les cours\n",
        "courses = cursor.fetchall()\n",
        "\n",
        "print(\"\\nCours disponibles :\")\n",
        "for course in courses:\n",
        "    print(course)\n"
      ],
      "metadata": {
        "colab": {
          "base_uri": "https://localhost:8080/"
        },
        "id": "YJ-R61bUQS7w",
        "outputId": "249ec9a0-ff29-4cc0-d3ee-9948f044ede9"
      },
      "execution_count": 17,
      "outputs": [
        {
          "output_type": "stream",
          "name": "stdout",
          "text": [
            "\n",
            "Cours disponibles :\n",
            "(1, 'Mathematics', 1, 0, 100)\n",
            "(2, 'History', 1, 0, 100)\n",
            "(3, 'Physics', 0, 0, 10)\n"
          ]
        }
      ]
    },
    {
      "cell_type": "code",
      "source": [
        "#requête pour récupérer les étudiants inscrits à un cours spécifique\n",
        "# Trouver les étudiants inscrits à un cours spécifique (par exemple, History)\n",
        "course_id = 2\n",
        "cursor.execute('SELECT * FROM students WHERE courses_ids LIKE ?', (f'%{course_id}%',))\n",
        "students_in_course = cursor.fetchall()\n",
        "\n",
        "print(\"\\nÉtudiants inscrits au cours d'histoire :\")\n",
        "for student in students_in_course:\n",
        "    print(student)\n"
      ],
      "metadata": {
        "colab": {
          "base_uri": "https://localhost:8080/"
        },
        "id": "I4QORhFZRrro",
        "outputId": "ccf36471-48a6-47eb-e0a3-32544659b4dd"
      },
      "execution_count": 18,
      "outputs": [
        {
          "output_type": "stream",
          "name": "stdout",
          "text": [
            "\n",
            "Étudiants inscrits au cours d'histoire :\n"
          ]
        }
      ]
    },
    {
      "cell_type": "code",
      "source": [
        "# Calculons la moyenne des notes dans le cours de mathematiques\n",
        "cursor.execute('SELECT AVG(grade) FROM math_course')\n",
        "average_grade = cursor.fetchone()[0]\n",
        "\n",
        "print(f\"\\nMoyenne des notes en mathématiques : {average_grade}\")\n"
      ],
      "metadata": {
        "colab": {
          "base_uri": "https://localhost:8080/"
        },
        "id": "BoUl3nbwSnUp",
        "outputId": "9b7be7ac-d82c-4190-ffad-f8021cffb7aa"
      },
      "execution_count": 19,
      "outputs": [
        {
          "output_type": "stream",
          "name": "stdout",
          "text": [
            "\n",
            "Moyenne des notes en mathématiques : 88.5\n"
          ]
        }
      ]
    },
    {
      "cell_type": "code",
      "source": [
        "# Supprimons un étudiant de la table math_course\n",
        "student_id_to_delete = 1\n",
        "cursor.execute('DELETE FROM math_course WHERE student_id = ?', (student_id_to_delete,))\n",
        "conn.commit()\n",
        "print(f\"Étudiant avec l'ID {student_id_to_delete} supprimé du cours de mathématiques.\")\n"
      ],
      "metadata": {
        "colab": {
          "base_uri": "https://localhost:8080/"
        },
        "id": "YsEEtnXrSyph",
        "outputId": "f8d15b76-b3cc-4261-bf6e-b7ac037dccf9"
      },
      "execution_count": 20,
      "outputs": [
        {
          "output_type": "stream",
          "name": "stdout",
          "text": [
            "Étudiant avec l'ID 1 supprimé du cours de mathématiques.\n"
          ]
        }
      ]
    },
    {
      "cell_type": "code",
      "source": [
        "# Mettre à jour la note d'un étudiant\n",
        "cursor.execute('UPDATE math_course SET grade = ?, grade_str = ? WHERE student_id = ?', (95, 'A+', 2))\n",
        "conn.commit()\n",
        "print(\"Note mise à jour avec succès.\")\n"
      ],
      "metadata": {
        "colab": {
          "base_uri": "https://localhost:8080/"
        },
        "id": "wXP45R6yS8eL",
        "outputId": "4632b456-9a25-4e8a-d6a2-643fcced7555"
      },
      "execution_count": 21,
      "outputs": [
        {
          "output_type": "stream",
          "name": "stdout",
          "text": [
            "Note mise à jour avec succès.\n"
          ]
        }
      ]
    },
    {
      "cell_type": "code",
      "source": [
        "#fermons la base de donnees\n",
        "conn.close()\n",
        "print(\"Connexion SQLite fermée.\")\n"
      ],
      "metadata": {
        "colab": {
          "base_uri": "https://localhost:8080/"
        },
        "id": "nowWle8oTB8B",
        "outputId": "37e8bd7e-7f53-47ba-f4f7-828db19d5f02"
      },
      "execution_count": 22,
      "outputs": [
        {
          "output_type": "stream",
          "name": "stdout",
          "text": [
            "Connexion SQLite fermée.\n"
          ]
        }
      ]
    }
  ]
}